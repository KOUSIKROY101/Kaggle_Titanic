{
  "nbformat": 4,
  "nbformat_minor": 0,
  "metadata": {
    "colab": {
      "name": "TITANIC_Kaggle.ipynb",
      "provenance": [],
      "collapsed_sections": [],
      "authorship_tag": "ABX9TyNqs5jaK/KLBkc0PXeCCkbi",
      "include_colab_link": true
    },
    "kernelspec": {
      "name": "python3",
      "display_name": "Python 3"
    }
  },
  "cells": [
    {
      "cell_type": "markdown",
      "metadata": {
        "id": "view-in-github",
        "colab_type": "text"
      },
      "source": [
        "<a href=\"https://colab.research.google.com/github/KOUSIKROY101/Kaggle_Titanic/blob/master/TITANIC_Kaggle.ipynb\" target=\"_parent\"><img src=\"https://colab.research.google.com/assets/colab-badge.svg\" alt=\"Open In Colab\"/></a>"
      ]
    },
    {
      "cell_type": "markdown",
      "metadata": {
        "id": "DSCnJrso7-_C",
        "colab_type": "text"
      },
      "source": [
        "#First importing all the necessery packages and loading the data"
      ]
    },
    {
      "cell_type": "code",
      "metadata": {
        "id": "tDkkSeYd_rVF",
        "colab_type": "code",
        "colab": {}
      },
      "source": [
        "%matplotlib inline\n",
        "import numpy as np\n",
        "import seaborn as sns\n",
        "import pandas as pd\n",
        "import matplotlib.pyplot as plt\n",
        "from IPython.display import Image\n",
        "sns.set()\n",
        "\n",
        "\n",
        "train=pd.read_csv(\"train.csv\")\n",
        "test=pd.read_csv(\"test.csv\")\n"
      ],
      "execution_count": 0,
      "outputs": []
    },
    {
      "cell_type": "markdown",
      "metadata": {
        "id": "pGKZK5ir8nH8",
        "colab_type": "text"
      },
      "source": [
        "# visualizing the training data"
      ]
    },
    {
      "cell_type": "code",
      "metadata": {
        "id": "Cw1WsPxekKoD",
        "colab_type": "code",
        "outputId": "a7c7a1bf-1b70-4964-e2f3-2916e859d691",
        "colab": {
          "base_uri": "https://localhost:8080/",
          "height": 255
        }
      },
      "source": [
        "train.head(5)"
      ],
      "execution_count": 0,
      "outputs": [
        {
          "output_type": "execute_result",
          "data": {
            "text/html": [
              "<div>\n",
              "<style scoped>\n",
              "    .dataframe tbody tr th:only-of-type {\n",
              "        vertical-align: middle;\n",
              "    }\n",
              "\n",
              "    .dataframe tbody tr th {\n",
              "        vertical-align: top;\n",
              "    }\n",
              "\n",
              "    .dataframe thead th {\n",
              "        text-align: right;\n",
              "    }\n",
              "</style>\n",
              "<table border=\"1\" class=\"dataframe\">\n",
              "  <thead>\n",
              "    <tr style=\"text-align: right;\">\n",
              "      <th></th>\n",
              "      <th>PassengerId</th>\n",
              "      <th>Survived</th>\n",
              "      <th>Pclass</th>\n",
              "      <th>Name</th>\n",
              "      <th>Sex</th>\n",
              "      <th>Age</th>\n",
              "      <th>SibSp</th>\n",
              "      <th>Parch</th>\n",
              "      <th>Ticket</th>\n",
              "      <th>Fare</th>\n",
              "      <th>Cabin</th>\n",
              "      <th>Embarked</th>\n",
              "    </tr>\n",
              "  </thead>\n",
              "  <tbody>\n",
              "    <tr>\n",
              "      <th>0</th>\n",
              "      <td>1</td>\n",
              "      <td>0</td>\n",
              "      <td>3</td>\n",
              "      <td>Braund, Mr. Owen Harris</td>\n",
              "      <td>male</td>\n",
              "      <td>22.0</td>\n",
              "      <td>1</td>\n",
              "      <td>0</td>\n",
              "      <td>A/5 21171</td>\n",
              "      <td>7.2500</td>\n",
              "      <td>NaN</td>\n",
              "      <td>S</td>\n",
              "    </tr>\n",
              "    <tr>\n",
              "      <th>1</th>\n",
              "      <td>2</td>\n",
              "      <td>1</td>\n",
              "      <td>1</td>\n",
              "      <td>Cumings, Mrs. John Bradley (Florence Briggs Th...</td>\n",
              "      <td>female</td>\n",
              "      <td>38.0</td>\n",
              "      <td>1</td>\n",
              "      <td>0</td>\n",
              "      <td>PC 17599</td>\n",
              "      <td>71.2833</td>\n",
              "      <td>C85</td>\n",
              "      <td>C</td>\n",
              "    </tr>\n",
              "    <tr>\n",
              "      <th>2</th>\n",
              "      <td>3</td>\n",
              "      <td>1</td>\n",
              "      <td>3</td>\n",
              "      <td>Heikkinen, Miss. Laina</td>\n",
              "      <td>female</td>\n",
              "      <td>26.0</td>\n",
              "      <td>0</td>\n",
              "      <td>0</td>\n",
              "      <td>STON/O2. 3101282</td>\n",
              "      <td>7.9250</td>\n",
              "      <td>NaN</td>\n",
              "      <td>S</td>\n",
              "    </tr>\n",
              "    <tr>\n",
              "      <th>3</th>\n",
              "      <td>4</td>\n",
              "      <td>1</td>\n",
              "      <td>1</td>\n",
              "      <td>Futrelle, Mrs. Jacques Heath (Lily May Peel)</td>\n",
              "      <td>female</td>\n",
              "      <td>35.0</td>\n",
              "      <td>1</td>\n",
              "      <td>0</td>\n",
              "      <td>113803</td>\n",
              "      <td>53.1000</td>\n",
              "      <td>C123</td>\n",
              "      <td>S</td>\n",
              "    </tr>\n",
              "    <tr>\n",
              "      <th>4</th>\n",
              "      <td>5</td>\n",
              "      <td>0</td>\n",
              "      <td>3</td>\n",
              "      <td>Allen, Mr. William Henry</td>\n",
              "      <td>male</td>\n",
              "      <td>35.0</td>\n",
              "      <td>0</td>\n",
              "      <td>0</td>\n",
              "      <td>373450</td>\n",
              "      <td>8.0500</td>\n",
              "      <td>NaN</td>\n",
              "      <td>S</td>\n",
              "    </tr>\n",
              "  </tbody>\n",
              "</table>\n",
              "</div>"
            ],
            "text/plain": [
              "   PassengerId  Survived  Pclass  ...     Fare Cabin  Embarked\n",
              "0            1         0       3  ...   7.2500   NaN         S\n",
              "1            2         1       1  ...  71.2833   C85         C\n",
              "2            3         1       3  ...   7.9250   NaN         S\n",
              "3            4         1       1  ...  53.1000  C123         S\n",
              "4            5         0       3  ...   8.0500   NaN         S\n",
              "\n",
              "[5 rows x 12 columns]"
            ]
          },
          "metadata": {
            "tags": []
          },
          "execution_count": 352
        }
      ]
    },
    {
      "cell_type": "markdown",
      "metadata": {
        "id": "8nHsfxai9FaN",
        "colab_type": "text"
      },
      "source": [
        "# visualizing the test data"
      ]
    },
    {
      "cell_type": "code",
      "metadata": {
        "id": "8wNvPcPj9Jby",
        "colab_type": "code",
        "outputId": "738c0440-6ce1-458f-efa9-6baf31dd7cd9",
        "colab": {
          "base_uri": "https://localhost:8080/",
          "height": 221
        }
      },
      "source": [
        "test.head(5)\n"
      ],
      "execution_count": 0,
      "outputs": [
        {
          "output_type": "execute_result",
          "data": {
            "text/html": [
              "<div>\n",
              "<style scoped>\n",
              "    .dataframe tbody tr th:only-of-type {\n",
              "        vertical-align: middle;\n",
              "    }\n",
              "\n",
              "    .dataframe tbody tr th {\n",
              "        vertical-align: top;\n",
              "    }\n",
              "\n",
              "    .dataframe thead th {\n",
              "        text-align: right;\n",
              "    }\n",
              "</style>\n",
              "<table border=\"1\" class=\"dataframe\">\n",
              "  <thead>\n",
              "    <tr style=\"text-align: right;\">\n",
              "      <th></th>\n",
              "      <th>PassengerId</th>\n",
              "      <th>Pclass</th>\n",
              "      <th>Name</th>\n",
              "      <th>Sex</th>\n",
              "      <th>Age</th>\n",
              "      <th>SibSp</th>\n",
              "      <th>Parch</th>\n",
              "      <th>Ticket</th>\n",
              "      <th>Fare</th>\n",
              "      <th>Cabin</th>\n",
              "      <th>Embarked</th>\n",
              "    </tr>\n",
              "  </thead>\n",
              "  <tbody>\n",
              "    <tr>\n",
              "      <th>0</th>\n",
              "      <td>892</td>\n",
              "      <td>3</td>\n",
              "      <td>Kelly, Mr. James</td>\n",
              "      <td>male</td>\n",
              "      <td>34.5</td>\n",
              "      <td>0</td>\n",
              "      <td>0</td>\n",
              "      <td>330911</td>\n",
              "      <td>7.8292</td>\n",
              "      <td>NaN</td>\n",
              "      <td>Q</td>\n",
              "    </tr>\n",
              "    <tr>\n",
              "      <th>1</th>\n",
              "      <td>893</td>\n",
              "      <td>3</td>\n",
              "      <td>Wilkes, Mrs. James (Ellen Needs)</td>\n",
              "      <td>female</td>\n",
              "      <td>47.0</td>\n",
              "      <td>1</td>\n",
              "      <td>0</td>\n",
              "      <td>363272</td>\n",
              "      <td>7.0000</td>\n",
              "      <td>NaN</td>\n",
              "      <td>S</td>\n",
              "    </tr>\n",
              "    <tr>\n",
              "      <th>2</th>\n",
              "      <td>894</td>\n",
              "      <td>2</td>\n",
              "      <td>Myles, Mr. Thomas Francis</td>\n",
              "      <td>male</td>\n",
              "      <td>62.0</td>\n",
              "      <td>0</td>\n",
              "      <td>0</td>\n",
              "      <td>240276</td>\n",
              "      <td>9.6875</td>\n",
              "      <td>NaN</td>\n",
              "      <td>Q</td>\n",
              "    </tr>\n",
              "    <tr>\n",
              "      <th>3</th>\n",
              "      <td>895</td>\n",
              "      <td>3</td>\n",
              "      <td>Wirz, Mr. Albert</td>\n",
              "      <td>male</td>\n",
              "      <td>27.0</td>\n",
              "      <td>0</td>\n",
              "      <td>0</td>\n",
              "      <td>315154</td>\n",
              "      <td>8.6625</td>\n",
              "      <td>NaN</td>\n",
              "      <td>S</td>\n",
              "    </tr>\n",
              "    <tr>\n",
              "      <th>4</th>\n",
              "      <td>896</td>\n",
              "      <td>3</td>\n",
              "      <td>Hirvonen, Mrs. Alexander (Helga E Lindqvist)</td>\n",
              "      <td>female</td>\n",
              "      <td>22.0</td>\n",
              "      <td>1</td>\n",
              "      <td>1</td>\n",
              "      <td>3101298</td>\n",
              "      <td>12.2875</td>\n",
              "      <td>NaN</td>\n",
              "      <td>S</td>\n",
              "    </tr>\n",
              "  </tbody>\n",
              "</table>\n",
              "</div>"
            ],
            "text/plain": [
              "   PassengerId  Pclass  ... Cabin Embarked\n",
              "0          892       3  ...   NaN        Q\n",
              "1          893       3  ...   NaN        S\n",
              "2          894       2  ...   NaN        Q\n",
              "3          895       3  ...   NaN        S\n",
              "4          896       3  ...   NaN        S\n",
              "\n",
              "[5 rows x 11 columns]"
            ]
          },
          "metadata": {
            "tags": []
          },
          "execution_count": 353
        }
      ]
    },
    {
      "cell_type": "code",
      "metadata": {
        "id": "sq6fBFMh9L78",
        "colab_type": "code",
        "outputId": "7b1aaf4e-4def-4448-de39-c24844e15969",
        "colab": {
          "base_uri": "https://localhost:8080/",
          "height": 51
        }
      },
      "source": [
        "print(train.shape)\n",
        "print(test.shape)"
      ],
      "execution_count": 0,
      "outputs": [
        {
          "output_type": "stream",
          "text": [
            "(891, 12)\n",
            "(418, 11)\n"
          ],
          "name": "stdout"
        }
      ]
    },
    {
      "cell_type": "code",
      "metadata": {
        "id": "pzkz5_2B90c_",
        "colab_type": "code",
        "outputId": "00305465-d8d1-4f7c-ab17-49ea6743e5dc",
        "colab": {
          "base_uri": "https://localhost:8080/",
          "height": 306
        }
      },
      "source": [
        "train.info()\n"
      ],
      "execution_count": 0,
      "outputs": [
        {
          "output_type": "stream",
          "text": [
            "<class 'pandas.core.frame.DataFrame'>\n",
            "RangeIndex: 891 entries, 0 to 890\n",
            "Data columns (total 12 columns):\n",
            "PassengerId    891 non-null int64\n",
            "Survived       891 non-null int64\n",
            "Pclass         891 non-null int64\n",
            "Name           891 non-null object\n",
            "Sex            891 non-null object\n",
            "Age            714 non-null float64\n",
            "SibSp          891 non-null int64\n",
            "Parch          891 non-null int64\n",
            "Ticket         891 non-null object\n",
            "Fare           891 non-null float64\n",
            "Cabin          204 non-null object\n",
            "Embarked       889 non-null object\n",
            "dtypes: float64(2), int64(5), object(5)\n",
            "memory usage: 83.7+ KB\n"
          ],
          "name": "stdout"
        }
      ]
    },
    {
      "cell_type": "markdown",
      "metadata": {
        "id": "88xW7agiDp9J",
        "colab_type": "text"
      },
      "source": [
        "#Insight:\n",
        " Null values are present in **Age** , **Cabin** and **Embarked** features."
      ]
    },
    {
      "cell_type": "code",
      "metadata": {
        "id": "rudJNU-t93lH",
        "colab_type": "code",
        "outputId": "a3884e90-f5e1-4b0c-89c2-93d37022a1ad",
        "colab": {
          "base_uri": "https://localhost:8080/",
          "height": 289
        }
      },
      "source": [
        "test.info()\n"
      ],
      "execution_count": 0,
      "outputs": [
        {
          "output_type": "stream",
          "text": [
            "<class 'pandas.core.frame.DataFrame'>\n",
            "RangeIndex: 418 entries, 0 to 417\n",
            "Data columns (total 11 columns):\n",
            "PassengerId    418 non-null int64\n",
            "Pclass         418 non-null int64\n",
            "Name           418 non-null object\n",
            "Sex            418 non-null object\n",
            "Age            332 non-null float64\n",
            "SibSp          418 non-null int64\n",
            "Parch          418 non-null int64\n",
            "Ticket         418 non-null object\n",
            "Fare           417 non-null float64\n",
            "Cabin          91 non-null object\n",
            "Embarked       418 non-null object\n",
            "dtypes: float64(2), int64(4), object(5)\n",
            "memory usage: 36.0+ KB\n"
          ],
          "name": "stdout"
        }
      ]
    },
    {
      "cell_type": "code",
      "metadata": {
        "id": "9hMS2NdY96uV",
        "colab_type": "code",
        "outputId": "4006c02b-9b99-4a78-a1fd-70c032c834c6",
        "colab": {
          "base_uri": "https://localhost:8080/",
          "height": 238
        }
      },
      "source": [
        "train.isnull().sum()\n"
      ],
      "execution_count": 0,
      "outputs": [
        {
          "output_type": "execute_result",
          "data": {
            "text/plain": [
              "PassengerId      0\n",
              "Survived         0\n",
              "Pclass           0\n",
              "Name             0\n",
              "Sex              0\n",
              "Age            177\n",
              "SibSp            0\n",
              "Parch            0\n",
              "Ticket           0\n",
              "Fare             0\n",
              "Cabin          687\n",
              "Embarked         2\n",
              "dtype: int64"
            ]
          },
          "metadata": {
            "tags": []
          },
          "execution_count": 357
        }
      ]
    },
    {
      "cell_type": "code",
      "metadata": {
        "id": "j5onGUi4-DRt",
        "colab_type": "code",
        "outputId": "2fdf40e6-537f-4a9e-eb35-dcb2c8073e77",
        "colab": {
          "base_uri": "https://localhost:8080/",
          "height": 221
        }
      },
      "source": [
        "test.isnull().sum()\n"
      ],
      "execution_count": 0,
      "outputs": [
        {
          "output_type": "execute_result",
          "data": {
            "text/plain": [
              "PassengerId      0\n",
              "Pclass           0\n",
              "Name             0\n",
              "Sex              0\n",
              "Age             86\n",
              "SibSp            0\n",
              "Parch            0\n",
              "Ticket           0\n",
              "Fare             1\n",
              "Cabin          327\n",
              "Embarked         0\n",
              "dtype: int64"
            ]
          },
          "metadata": {
            "tags": []
          },
          "execution_count": 358
        }
      ]
    },
    {
      "cell_type": "markdown",
      "metadata": {
        "id": "sif9vIuM_Lq2",
        "colab_type": "text"
      },
      "source": [
        "# Bar chart for categorical features"
      ]
    },
    {
      "cell_type": "code",
      "metadata": {
        "id": "fEWaZ3aa-Jr2",
        "colab_type": "code",
        "colab": {}
      },
      "source": [
        "def bar_chart(feature):\n",
        " survived=train[train['Survived']==1][feature].value_counts()\n",
        " dead=train[train['Survived']==0][feature].value_counts()\n",
        " df=pd.DataFrame([survived,dead])\n",
        " df.index=[\"Survived\",\"Dead\"]\n",
        " df.plot(kind='bar',stacked=False,figsize=(10,5))"
      ],
      "execution_count": 0,
      "outputs": []
    },
    {
      "cell_type": "markdown",
      "metadata": {
        "id": "d5TDe27fAlMq",
        "colab_type": "text"
      },
      "source": [
        "#visualizing different features with bar chart"
      ]
    },
    {
      "cell_type": "code",
      "metadata": {
        "id": "Ht1ImoO_AiuW",
        "colab_type": "code",
        "outputId": "497dbd85-6997-4204-802f-10498d013c4f",
        "colab": {
          "base_uri": "https://localhost:8080/",
          "height": 361
        }
      },
      "source": [
        "bar_chart(\"Sex\")"
      ],
      "execution_count": 0,
      "outputs": [
        {
          "output_type": "display_data",
          "data": {
            "image/png": "[encoded data removed]",
            "text/plain": [
              "<Figure size 720x360 with 1 Axes>"
            ]
          },
          "metadata": {
            "tags": []
          }
        }
      ]
    },
    {
      "cell_type": "markdown",
      "metadata": {
        "id": "HkljU5buDSYy",
        "colab_type": "text"
      },
      "source": [
        "#Insight:\n",
        "Here we see **Women** are more likely to survive than **Men**"
      ]
    },
    {
      "cell_type": "code",
      "metadata": {
        "id": "JCHlxLoeBr3o",
        "colab_type": "code",
        "outputId": "2632ce3a-7d7f-4c2a-a1d5-5474b2236a79",
        "colab": {
          "base_uri": "https://localhost:8080/",
          "height": 361
        }
      },
      "source": [
        "bar_chart(\"Pclass\")"
      ],
      "execution_count": 0,
      "outputs": [
        {
          "output_type": "display_data",
          "data": {
            "image/png": "[encoded data removed]",
            "text/plain": [
              "<Figure size 720x360 with 1 Axes>"
            ]
          },
          "metadata": {
            "tags": []
          }
        }
      ]
    },
    {
      "cell_type": "markdown",
      "metadata": {
        "id": "qnbdJXjkECbI",
        "colab_type": "text"
      },
      "source": [
        ""
      ]
    },
    {
      "cell_type": "markdown",
      "metadata": {
        "id": "GyaQh9ALECir",
        "colab_type": "text"
      },
      "source": [
        "#Insight:\n",
        "**Class 1** (Rich) are most likely to survive.\n",
        "**Class 2** have almost equal chance of surviving or being dead.\n",
        "**Class 3** are the most unlucky ones."
      ]
    },
    {
      "cell_type": "code",
      "metadata": {
        "id": "7VN6XH0YCz_K",
        "colab_type": "code",
        "outputId": "0a41fa1c-74ae-4b5c-cb08-43f8f4ac1042",
        "colab": {
          "base_uri": "https://localhost:8080/",
          "height": 361
        }
      },
      "source": [
        "bar_chart(\"SibSp\")"
      ],
      "execution_count": 0,
      "outputs": [
        {
          "output_type": "display_data",
          "data": {
            "image/png": "[encoded data removed]",
            "text/plain": [
              "<Figure size 720x360 with 1 Axes>"
            ]
          },
          "metadata": {
            "tags": []
          }
        }
      ]
    },
    {
      "cell_type": "markdown",
      "metadata": {
        "id": "9N5DTsyVMqh5",
        "colab_type": "text"
      },
      "source": [
        "#Insights:\n",
        "Having more siblings or spouse tends to being dead."
      ]
    },
    {
      "cell_type": "code",
      "metadata": {
        "id": "QuShZqr9E5cH",
        "colab_type": "code",
        "outputId": "9e25e0be-e66d-458a-a94b-32ba2a6846ea",
        "colab": {
          "base_uri": "https://localhost:8080/",
          "height": 361
        }
      },
      "source": [
        "bar_chart(\"Parch\")"
      ],
      "execution_count": 0,
      "outputs": [
        {
          "output_type": "display_data",
          "data": {
            "image/png": "[encoded data removed]",
            "text/plain": [
              "<Figure size 720x360 with 1 Axes>"
            ]
          },
          "metadata": {
            "tags": []
          }
        }
      ]
    },
    {
      "cell_type": "markdown",
      "metadata": {
        "id": "6cGNLoDoOC6B",
        "colab_type": "text"
      },
      "source": [
        "#Insights:\n",
        "Having parents or children tends to being dead."
      ]
    },
    {
      "cell_type": "code",
      "metadata": {
        "id": "OMX1AjB5NDmd",
        "colab_type": "code",
        "outputId": "ea5ccee5-7a7f-4eb6-c7df-b2f3e1f6b6d0",
        "colab": {
          "base_uri": "https://localhost:8080/",
          "height": 361
        }
      },
      "source": [
        "bar_chart(\"Embarked\")"
      ],
      "execution_count": 0,
      "outputs": [
        {
          "output_type": "display_data",
          "data": {
            "image/png": "[encoded data removed]",
            "text/plain": [
              "<Figure size 720x360 with 1 Axes>"
            ]
          },
          "metadata": {
            "tags": []
          }
        }
      ]
    },
    {
      "cell_type": "markdown",
      "metadata": {
        "id": "rFBP-FTEOMWs",
        "colab_type": "text"
      },
      "source": [
        "#Insights:\n",
        "**C class** has higher chance of surviving."
      ]
    },
    {
      "cell_type": "markdown",
      "metadata": {
        "id": "qw5t_vnC4CvM",
        "colab_type": "text"
      },
      "source": [
        "#Feature Engineering:\n",
        "To handle missing value and feature exploration"
      ]
    },
    {
      "cell_type": "code",
      "metadata": {
        "id": "oDOWOUrJNyPy",
        "colab_type": "code",
        "outputId": "125b27b7-d78c-4a2b-a20f-2338c907c47b",
        "colab": {
          "base_uri": "https://localhost:8080/",
          "height": 531
        }
      },
      "source": [
        "Image(url=\"http://aoife.dbsdataprojects.com/wp-content/uploads/sites/127/2016/06/TItanic-Survival-Infographic-825x510.jpg\")"
      ],
      "execution_count": 0,
      "outputs": [
        {
          "output_type": "execute_result",
          "data": {
            "text/html": [
              "<img src=\"http://aoife.dbsdataprojects.com/wp-content/uploads/sites/127/2016/06/TItanic-Survival-Infographic-825x510.jpg\"/>"
            ],
            "text/plain": [
              "<IPython.core.display.Image object>"
            ]
          },
          "metadata": {
            "tags": []
          },
          "execution_count": 365
        }
      ]
    },
    {
      "cell_type": "markdown",
      "metadata": {
        "id": "KcLp2yAu7KuN",
        "colab_type": "text"
      },
      "source": [
        "#Name Feature:\n",
        "The name feature has little importance however we can extract some information from it."
      ]
    },
    {
      "cell_type": "code",
      "metadata": {
        "id": "RtFt-Xm-5i2B",
        "colab_type": "code",
        "colab": {}
      },
      "source": [
        "train_test_data=[train,test]\n",
        "\n",
        "for data in train_test_data:\n",
        "  data[\"Title\"]=data[\"Name\"].str.extract('([a-zA-Z]+)\\.',expand=False)\n",
        "  "
      ],
      "execution_count": 0,
      "outputs": []
    },
    {
      "cell_type": "code",
      "metadata": {
        "id": "Bwp6bKDc-hpb",
        "colab_type": "code",
        "outputId": "5b0df7b9-8da5-498c-d8d8-f7665b7d2df7",
        "colab": {
          "base_uri": "https://localhost:8080/",
          "height": 323
        }
      },
      "source": [
        "train[\"Title\"].value_counts()"
      ],
      "execution_count": 0,
      "outputs": [
        {
          "output_type": "execute_result",
          "data": {
            "text/plain": [
              "Mr          517\n",
              "Miss        182\n",
              "Mrs         125\n",
              "Master       40\n",
              "Dr            7\n",
              "Rev           6\n",
              "Major         2\n",
              "Mlle          2\n",
              "Col           2\n",
              "Mme           1\n",
              "Don           1\n",
              "Jonkheer      1\n",
              "Capt          1\n",
              "Lady          1\n",
              "Ms            1\n",
              "Sir           1\n",
              "Countess      1\n",
              "Name: Title, dtype: int64"
            ]
          },
          "metadata": {
            "tags": []
          },
          "execution_count": 367
        }
      ]
    },
    {
      "cell_type": "code",
      "metadata": {
        "id": "cmcY9F1Y-vse",
        "colab_type": "code",
        "outputId": "e3a6ee2d-a7c9-47a7-e8e8-d0f58b45eefd",
        "colab": {
          "base_uri": "https://localhost:8080/",
          "height": 187
        }
      },
      "source": [
        "test[\"Title\"].value_counts()\n"
      ],
      "execution_count": 0,
      "outputs": [
        {
          "output_type": "execute_result",
          "data": {
            "text/plain": [
              "Mr        240\n",
              "Miss       78\n",
              "Mrs        72\n",
              "Master     21\n",
              "Col         2\n",
              "Rev         2\n",
              "Ms          1\n",
              "Dona        1\n",
              "Dr          1\n",
              "Name: Title, dtype: int64"
            ]
          },
          "metadata": {
            "tags": []
          },
          "execution_count": 368
        }
      ]
    },
    {
      "cell_type": "markdown",
      "metadata": {
        "id": "yBCdM1IJFSL3",
        "colab_type": "text"
      },
      "source": [
        "#Encoding Mr,Miss and Mrs and others:"
      ]
    },
    {
      "cell_type": "code",
      "metadata": {
        "id": "VPCA_lxbAI47",
        "colab_type": "code",
        "colab": {}
      },
      "source": [
        "\n",
        "train['Title'].replace({'Mr':'0','Miss':'1','Mrs':'2'},inplace=True)\n",
        "test['Title'].replace({'Mr':'0','Miss':'1','Mrs':'2'},inplace=True)\n",
        "\n"
      ],
      "execution_count": 0,
      "outputs": []
    },
    {
      "cell_type": "code",
      "metadata": {
        "id": "LVHpxtJqFFra",
        "colab_type": "code",
        "colab": {}
      },
      "source": [
        "\n",
        "for data in train_test_data:\n",
        "  data[\"Title\"]=data[\"Title\"].str.replace('([a-zA-Z]+)','3')\n",
        "  "
      ],
      "execution_count": 0,
      "outputs": []
    },
    {
      "cell_type": "code",
      "metadata": {
        "id": "B_bbeDwmREWo",
        "colab_type": "code",
        "colab": {}
      },
      "source": [
        "train['Title']=train['Title'].astype('int')#object to int type conversion"
      ],
      "execution_count": 0,
      "outputs": []
    },
    {
      "cell_type": "code",
      "metadata": {
        "id": "Im1M-_nPR3Gr",
        "colab_type": "code",
        "outputId": "0899915b-9e79-47d4-e4e6-82cd771c4635",
        "colab": {
          "base_uri": "https://localhost:8080/",
          "height": 361
        }
      },
      "source": [
        "bar_chart('Title')"
      ],
      "execution_count": 0,
      "outputs": [
        {
          "output_type": "display_data",
          "data": {
            "image/png": "[encoded data removed]",
            "text/plain": [
              "<Figure size 720x360 with 1 Axes>"
            ]
          },
          "metadata": {
            "tags": []
          }
        }
      ]
    },
    {
      "cell_type": "markdown",
      "metadata": {
        "id": "KcCby4ntW6xh",
        "colab_type": "text"
      },
      "source": [
        "#Insights:\n",
        "**Mr** titled people mostly died, **Miss** and **Mrs** titled people mostly survived and 50-50 chance almost for **others**."
      ]
    },
    {
      "cell_type": "markdown",
      "metadata": {
        "id": "y5rnbKtTXbQ7",
        "colab_type": "text"
      },
      "source": [
        "#Dropping Name Feature"
      ]
    },
    {
      "cell_type": "code",
      "metadata": {
        "id": "-UDxsY9xXPv7",
        "colab_type": "code",
        "colab": {}
      },
      "source": [
        "train.drop('Name',axis=1,inplace=True)\n"
      ],
      "execution_count": 0,
      "outputs": []
    },
    {
      "cell_type": "code",
      "metadata": {
        "id": "VBuJus0cXvC8",
        "colab_type": "code",
        "colab": {}
      },
      "source": [
        "test.drop('Name',axis=1,inplace=True)\n"
      ],
      "execution_count": 0,
      "outputs": []
    },
    {
      "cell_type": "markdown",
      "metadata": {
        "id": "tjjtz1AOlAbk",
        "colab_type": "text"
      },
      "source": [
        "# SEX Feature"
      ]
    },
    {
      "cell_type": "code",
      "metadata": {
        "id": "dX3Sd-OgX6LU",
        "colab_type": "code",
        "colab": {}
      },
      "source": [
        "sex_mapping={'male':0,'female':10}\n",
        "for data in train_test_data:\n",
        "  data['Sex']=data['Sex'].map(sex_mapping)"
      ],
      "execution_count": 0,
      "outputs": []
    },
    {
      "cell_type": "code",
      "metadata": {
        "id": "xt77Gwk2okFf",
        "colab_type": "code",
        "outputId": "7d1326f1-7fba-4b25-cb09-51d9760fd5e6",
        "colab": {
          "base_uri": "https://localhost:8080/",
          "height": 361
        }
      },
      "source": [
        "bar_chart('Sex')"
      ],
      "execution_count": 0,
      "outputs": [
        {
          "output_type": "display_data",
          "data": {
            "image/png": "[encoded data removed]",
            "text/plain": [
              "<Figure size 720x360 with 1 Axes>"
            ]
          },
          "metadata": {
            "tags": []
          }
        }
      ]
    },
    {
      "cell_type": "markdown",
      "metadata": {
        "id": "20Zv-iM8tP0F",
        "colab_type": "text"
      },
      "source": [
        "#Age\n",
        "Filling missing values."
      ]
    },
    {
      "cell_type": "code",
      "metadata": {
        "id": "2oUSCL7tom2b",
        "colab_type": "code",
        "colab": {}
      },
      "source": [
        "train['Age'].fillna(train.groupby('Title')['Age'].transform('median'),inplace=True)\n",
        "test['Age'].fillna(test.groupby('Title')['Age'].transform('median'),inplace=True)\n",
        "\n"
      ],
      "execution_count": 0,
      "outputs": []
    },
    {
      "cell_type": "code",
      "metadata": {
        "id": "aBzwwy7G9Yyi",
        "colab_type": "code",
        "outputId": "65735b3d-f253-42be-d03d-73dea20cbf50",
        "colab": {
          "base_uri": "https://localhost:8080/",
          "height": 221
        }
      },
      "source": [
        "facet=sns.FacetGrid(train,hue='Survived',aspect=4)\n",
        "facet.map(sns.kdeplot,'Age',shade=True)\n",
        "facet.set(xlim=(0,train['Age'].max()))\n",
        "facet.add_legend()\n",
        "#plt.xlim(0,60)\n",
        "plt.show()"
      ],
      "execution_count": 0,
      "outputs": [
        {
          "output_type": "display_data",
          "data": {
            "image/png": "[encoded data removed]",
            "text/plain": [
              "<Figure size 918.05x216 with 1 Axes>"
            ]
          },
          "metadata": {
            "tags": []
          }
        }
      ]
    },
    {
      "cell_type": "markdown",
      "metadata": {
        "id": "0K2HYq-O_9TE",
        "colab_type": "text"
      },
      "source": [
        "#Insight:\n",
        "According to the plots with varying the xlim we do binning on Age feature to separate it in 5 groups. \n",
        "\n",
        "Child:0\n",
        "\n",
        "Young:1\n",
        "\n",
        "Adult:2\n",
        "\n",
        "Senior:3\n",
        "\n",
        "Old:4"
      ]
    },
    {
      "cell_type": "code",
      "metadata": {
        "id": "X-bbu7qv-Y4H",
        "colab_type": "code",
        "colab": {}
      },
      "source": [
        "for data in train_test_data:\n",
        "  data.loc[data['Age']<=18,'Age']=0\n",
        "  data.loc[(data['Age']>18) & (data['Age']<=34),'Age']=1\n",
        "  data.loc[(data['Age']>34) & (data['Age']<=42),'Age']=2\n",
        "  data.loc[(data['Age']>42) & (data['Age']<=58),'Age']=3\n",
        "  data.loc[data['Age']>58,'Age']=4"
      ],
      "execution_count": 0,
      "outputs": []
    },
    {
      "cell_type": "code",
      "metadata": {
        "id": "RUSslHw6CSiq",
        "colab_type": "code",
        "outputId": "87a070a7-bf1f-4f76-98dc-9d293583f175",
        "colab": {
          "base_uri": "https://localhost:8080/",
          "height": 204
        }
      },
      "source": [
        "train.head(5)"
      ],
      "execution_count": 0,
      "outputs": [
        {
          "output_type": "execute_result",
          "data": {
            "text/html": [
              "<div>\n",
              "<style scoped>\n",
              "    .dataframe tbody tr th:only-of-type {\n",
              "        vertical-align: middle;\n",
              "    }\n",
              "\n",
              "    .dataframe tbody tr th {\n",
              "        vertical-align: top;\n",
              "    }\n",
              "\n",
              "    .dataframe thead th {\n",
              "        text-align: right;\n",
              "    }\n",
              "</style>\n",
              "<table border=\"1\" class=\"dataframe\">\n",
              "  <thead>\n",
              "    <tr style=\"text-align: right;\">\n",
              "      <th></th>\n",
              "      <th>PassengerId</th>\n",
              "      <th>Survived</th>\n",
              "      <th>Pclass</th>\n",
              "      <th>Sex</th>\n",
              "      <th>Age</th>\n",
              "      <th>SibSp</th>\n",
              "      <th>Parch</th>\n",
              "      <th>Ticket</th>\n",
              "      <th>Fare</th>\n",
              "      <th>Cabin</th>\n",
              "      <th>Embarked</th>\n",
              "      <th>Title</th>\n",
              "    </tr>\n",
              "  </thead>\n",
              "  <tbody>\n",
              "    <tr>\n",
              "      <th>0</th>\n",
              "      <td>1</td>\n",
              "      <td>0</td>\n",
              "      <td>3</td>\n",
              "      <td>0</td>\n",
              "      <td>1.0</td>\n",
              "      <td>1</td>\n",
              "      <td>0</td>\n",
              "      <td>A/5 21171</td>\n",
              "      <td>7.2500</td>\n",
              "      <td>NaN</td>\n",
              "      <td>S</td>\n",
              "      <td>0</td>\n",
              "    </tr>\n",
              "    <tr>\n",
              "      <th>1</th>\n",
              "      <td>2</td>\n",
              "      <td>1</td>\n",
              "      <td>1</td>\n",
              "      <td>10</td>\n",
              "      <td>2.0</td>\n",
              "      <td>1</td>\n",
              "      <td>0</td>\n",
              "      <td>PC 17599</td>\n",
              "      <td>71.2833</td>\n",
              "      <td>C85</td>\n",
              "      <td>C</td>\n",
              "      <td>2</td>\n",
              "    </tr>\n",
              "    <tr>\n",
              "      <th>2</th>\n",
              "      <td>3</td>\n",
              "      <td>1</td>\n",
              "      <td>3</td>\n",
              "      <td>10</td>\n",
              "      <td>1.0</td>\n",
              "      <td>0</td>\n",
              "      <td>0</td>\n",
              "      <td>STON/O2. 3101282</td>\n",
              "      <td>7.9250</td>\n",
              "      <td>NaN</td>\n",
              "      <td>S</td>\n",
              "      <td>1</td>\n",
              "    </tr>\n",
              "    <tr>\n",
              "      <th>3</th>\n",
              "      <td>4</td>\n",
              "      <td>1</td>\n",
              "      <td>1</td>\n",
              "      <td>10</td>\n",
              "      <td>2.0</td>\n",
              "      <td>1</td>\n",
              "      <td>0</td>\n",
              "      <td>113803</td>\n",
              "      <td>53.1000</td>\n",
              "      <td>C123</td>\n",
              "      <td>S</td>\n",
              "      <td>2</td>\n",
              "    </tr>\n",
              "    <tr>\n",
              "      <th>4</th>\n",
              "      <td>5</td>\n",
              "      <td>0</td>\n",
              "      <td>3</td>\n",
              "      <td>0</td>\n",
              "      <td>2.0</td>\n",
              "      <td>0</td>\n",
              "      <td>0</td>\n",
              "      <td>373450</td>\n",
              "      <td>8.0500</td>\n",
              "      <td>NaN</td>\n",
              "      <td>S</td>\n",
              "      <td>0</td>\n",
              "    </tr>\n",
              "  </tbody>\n",
              "</table>\n",
              "</div>"
            ],
            "text/plain": [
              "   PassengerId  Survived  Pclass  Sex  ...     Fare  Cabin  Embarked Title\n",
              "0            1         0       3    0  ...   7.2500    NaN         S     0\n",
              "1            2         1       1   10  ...  71.2833    C85         C     2\n",
              "2            3         1       3   10  ...   7.9250    NaN         S     1\n",
              "3            4         1       1   10  ...  53.1000   C123         S     2\n",
              "4            5         0       3    0  ...   8.0500    NaN         S     0\n",
              "\n",
              "[5 rows x 12 columns]"
            ]
          },
          "metadata": {
            "tags": []
          },
          "execution_count": 380
        }
      ]
    },
    {
      "cell_type": "code",
      "metadata": {
        "id": "yjC8LnzaDREC",
        "colab_type": "code",
        "outputId": "c51e5837-4850-4dec-d5c4-3379981c9b1c",
        "colab": {
          "base_uri": "https://localhost:8080/",
          "height": 361
        }
      },
      "source": [
        "bar_chart(\"Age\")"
      ],
      "execution_count": 0,
      "outputs": [
        {
          "output_type": "display_data",
          "data": {
            "image/png": "[encoded data removed]",
            "text/plain": [
              "<Figure size 720x360 with 1 Axes>"
            ]
          },
          "metadata": {
            "tags": []
          }
        }
      ]
    },
    {
      "cell_type": "markdown",
      "metadata": {
        "id": "Zyl_bccWDqVG",
        "colab_type": "text"
      },
      "source": [
        "#Embarked"
      ]
    },
    {
      "cell_type": "code",
      "metadata": {
        "id": "WW-kVc6VDZAN",
        "colab_type": "code",
        "outputId": "79fdbd71-4449-443d-c4b6-04d7588548f3",
        "colab": {
          "base_uri": "https://localhost:8080/",
          "height": 381
        }
      },
      "source": [
        "Pclass1=train[train['Pclass']==1]['Embarked'].value_counts()\n",
        "Pclass2=train[train['Pclass']==2]['Embarked'].value_counts()\n",
        "Pclass3=train[train['Pclass']==3]['Embarked'].value_counts()\n",
        "df=pd.DataFrame([Pclass1,Pclass2,Pclass3])\n",
        "df.index=['1st class','2nd class','3rd class']\n",
        "df.plot(kind='bar',stacked=False,figsize=(10,5))"
      ],
      "execution_count": 0,
      "outputs": [
        {
          "output_type": "execute_result",
          "data": {
            "text/plain": [
              "<matplotlib.axes._subplots.AxesSubplot at 0x7f7db02d20f0>"
            ]
          },
          "metadata": {
            "tags": []
          },
          "execution_count": 382
        },
        {
          "output_type": "display_data",
          "data": {
            "image/png": "[encoded data removed]",
            "text/plain": [
              "<Figure size 720x360 with 1 Axes>"
            ]
          },
          "metadata": {
            "tags": []
          }
        }
      ]
    },
    {
      "cell_type": "markdown",
      "metadata": {
        "id": "bCAfQffe4XKD",
        "colab_type": "text"
      },
      "source": [
        "#Insights:\n",
        "Most of embarked feature is S so we can fill out the few missing values with S."
      ]
    },
    {
      "cell_type": "code",
      "metadata": {
        "id": "kYySBKCV39Ks",
        "colab_type": "code",
        "colab": {}
      },
      "source": [
        "for data in train_test_data:\n",
        "  data['Embarked']=data['Embarked'].fillna('S')"
      ],
      "execution_count": 0,
      "outputs": []
    },
    {
      "cell_type": "markdown",
      "metadata": {
        "id": "9fXncUQQ6WPf",
        "colab_type": "text"
      },
      "source": [
        "So now only feature Cabin has null values and 1 missing vale in Fare in test set."
      ]
    },
    {
      "cell_type": "markdown",
      "metadata": {
        "id": "oLWsES515R6P",
        "colab_type": "text"
      },
      "source": [
        "#Mapping to numeric for feature Embarked:"
      ]
    },
    {
      "cell_type": "code",
      "metadata": {
        "id": "cI4DF3o847Qr",
        "colab_type": "code",
        "colab": {}
      },
      "source": [
        "Embarked_mapping={'S':0,'C':1,'Q':2}\n",
        "for data in train_test_data:\n",
        "  data['Embarked']=data['Embarked'].map(Embarked_mapping)"
      ],
      "execution_count": 0,
      "outputs": []
    },
    {
      "cell_type": "markdown",
      "metadata": {
        "id": "FHoL-vjX6crZ",
        "colab_type": "text"
      },
      "source": [
        "#Fare: \n",
        "Filling the missing value with median of fare based on Pclass."
      ]
    },
    {
      "cell_type": "code",
      "metadata": {
        "id": "4S3lk-aJ5y8n",
        "colab_type": "code",
        "colab": {}
      },
      "source": [
        "train['Fare'].fillna(train.groupby('Pclass')['Fare'].transform('median'),inplace=True)\n",
        "test['Fare'].fillna(test.groupby('Pclass')['Fare'].transform('median'),inplace=True)"
      ],
      "execution_count": 0,
      "outputs": []
    },
    {
      "cell_type": "code",
      "metadata": {
        "id": "6MuYpN097Y4D",
        "colab_type": "code",
        "outputId": "5a0b17e3-5822-43d8-b0af-af5f010072be",
        "colab": {
          "base_uri": "https://localhost:8080/",
          "height": 221
        }
      },
      "source": [
        "facet=sns.FacetGrid(train,hue='Survived',aspect=4)\n",
        "facet.map(sns.kdeplot,'Fare',shade=True)\n",
        "facet.set(xlim=(0,train['Fare'].max()))\n",
        "facet.add_legend()\n",
        "#plt.xlim(100,300)\n",
        "plt.show()"
      ],
      "execution_count": 0,
      "outputs": [
        {
          "output_type": "display_data",
          "data": {
            "image/png": "[encoded data removed]",
            "text/plain": [
              "<Figure size 918.05x216 with 1 Axes>"
            ]
          },
          "metadata": {
            "tags": []
          }
        }
      ]
    },
    {
      "cell_type": "markdown",
      "metadata": {
        "id": "baWEsrm48shx",
        "colab_type": "text"
      },
      "source": [
        "#Insights:\n",
        "People with higher ticket price were more likely to survive.\n"
      ]
    },
    {
      "cell_type": "markdown",
      "metadata": {
        "id": "NOU-mRKg9S43",
        "colab_type": "text"
      },
      "source": [
        "#Binning for Fare:\n",
        "From above plot we can seperate Fare in 4 groups such as:\n",
        "\n",
        "<=17 : 0\n",
        "\n",
        "\\>17 & <=28 : 1\n",
        "\n",
        "\\>28 & <=150 : 2\n",
        "\n",
        "\\>150 : 3\n",
        "\n"
      ]
    },
    {
      "cell_type": "code",
      "metadata": {
        "id": "sYtTK5rH8ciq",
        "colab_type": "code",
        "colab": {}
      },
      "source": [
        "for data in train_test_data:\n",
        "  data.loc[data['Fare']<=17,'Fare']=0\n",
        "  data.loc[(data['Fare']>17) & (data['Fare']<=28),'Fare']=1\n",
        "  data.loc[(data['Fare']>28) & (data['Fare']<=150),'Fare']=2\n",
        "  data.loc[data['Fare']>150,'Fare']=3"
      ],
      "execution_count": 0,
      "outputs": []
    },
    {
      "cell_type": "code",
      "metadata": {
        "id": "AjS71xJs_cVC",
        "colab_type": "code",
        "outputId": "849b49ab-7f96-44ef-b903-7b0a8bcca42e",
        "colab": {
          "base_uri": "https://localhost:8080/",
          "height": 204
        }
      },
      "source": [
        "train.head(5)\n"
      ],
      "execution_count": 0,
      "outputs": [
        {
          "output_type": "execute_result",
          "data": {
            "text/html": [
              "<div>\n",
              "<style scoped>\n",
              "    .dataframe tbody tr th:only-of-type {\n",
              "        vertical-align: middle;\n",
              "    }\n",
              "\n",
              "    .dataframe tbody tr th {\n",
              "        vertical-align: top;\n",
              "    }\n",
              "\n",
              "    .dataframe thead th {\n",
              "        text-align: right;\n",
              "    }\n",
              "</style>\n",
              "<table border=\"1\" class=\"dataframe\">\n",
              "  <thead>\n",
              "    <tr style=\"text-align: right;\">\n",
              "      <th></th>\n",
              "      <th>PassengerId</th>\n",
              "      <th>Survived</th>\n",
              "      <th>Pclass</th>\n",
              "      <th>Sex</th>\n",
              "      <th>Age</th>\n",
              "      <th>SibSp</th>\n",
              "      <th>Parch</th>\n",
              "      <th>Ticket</th>\n",
              "      <th>Fare</th>\n",
              "      <th>Cabin</th>\n",
              "      <th>Embarked</th>\n",
              "      <th>Title</th>\n",
              "    </tr>\n",
              "  </thead>\n",
              "  <tbody>\n",
              "    <tr>\n",
              "      <th>0</th>\n",
              "      <td>1</td>\n",
              "      <td>0</td>\n",
              "      <td>3</td>\n",
              "      <td>0</td>\n",
              "      <td>1.0</td>\n",
              "      <td>1</td>\n",
              "      <td>0</td>\n",
              "      <td>A/5 21171</td>\n",
              "      <td>0.0</td>\n",
              "      <td>NaN</td>\n",
              "      <td>0</td>\n",
              "      <td>0</td>\n",
              "    </tr>\n",
              "    <tr>\n",
              "      <th>1</th>\n",
              "      <td>2</td>\n",
              "      <td>1</td>\n",
              "      <td>1</td>\n",
              "      <td>10</td>\n",
              "      <td>2.0</td>\n",
              "      <td>1</td>\n",
              "      <td>0</td>\n",
              "      <td>PC 17599</td>\n",
              "      <td>2.0</td>\n",
              "      <td>C85</td>\n",
              "      <td>1</td>\n",
              "      <td>2</td>\n",
              "    </tr>\n",
              "    <tr>\n",
              "      <th>2</th>\n",
              "      <td>3</td>\n",
              "      <td>1</td>\n",
              "      <td>3</td>\n",
              "      <td>10</td>\n",
              "      <td>1.0</td>\n",
              "      <td>0</td>\n",
              "      <td>0</td>\n",
              "      <td>STON/O2. 3101282</td>\n",
              "      <td>0.0</td>\n",
              "      <td>NaN</td>\n",
              "      <td>0</td>\n",
              "      <td>1</td>\n",
              "    </tr>\n",
              "    <tr>\n",
              "      <th>3</th>\n",
              "      <td>4</td>\n",
              "      <td>1</td>\n",
              "      <td>1</td>\n",
              "      <td>10</td>\n",
              "      <td>2.0</td>\n",
              "      <td>1</td>\n",
              "      <td>0</td>\n",
              "      <td>113803</td>\n",
              "      <td>2.0</td>\n",
              "      <td>C123</td>\n",
              "      <td>0</td>\n",
              "      <td>2</td>\n",
              "    </tr>\n",
              "    <tr>\n",
              "      <th>4</th>\n",
              "      <td>5</td>\n",
              "      <td>0</td>\n",
              "      <td>3</td>\n",
              "      <td>0</td>\n",
              "      <td>2.0</td>\n",
              "      <td>0</td>\n",
              "      <td>0</td>\n",
              "      <td>373450</td>\n",
              "      <td>0.0</td>\n",
              "      <td>NaN</td>\n",
              "      <td>0</td>\n",
              "      <td>0</td>\n",
              "    </tr>\n",
              "  </tbody>\n",
              "</table>\n",
              "</div>"
            ],
            "text/plain": [
              "   PassengerId  Survived  Pclass  Sex  ...  Fare  Cabin  Embarked Title\n",
              "0            1         0       3    0  ...   0.0    NaN         0     0\n",
              "1            2         1       1   10  ...   2.0    C85         1     2\n",
              "2            3         1       3   10  ...   0.0    NaN         0     1\n",
              "3            4         1       1   10  ...   2.0   C123         0     2\n",
              "4            5         0       3    0  ...   0.0    NaN         0     0\n",
              "\n",
              "[5 rows x 12 columns]"
            ]
          },
          "metadata": {
            "tags": []
          },
          "execution_count": 388
        }
      ]
    },
    {
      "cell_type": "markdown",
      "metadata": {
        "id": "w63_F622Ba5Q",
        "colab_type": "text"
      },
      "source": [
        "#Cabin:"
      ]
    },
    {
      "cell_type": "code",
      "metadata": {
        "id": "h6tkyJ0wATli",
        "colab_type": "code",
        "outputId": "d2f2fe3a-9cbe-4826-dc0e-c6707608f299",
        "colab": {
          "base_uri": "https://localhost:8080/",
          "height": 221
        }
      },
      "source": [
        "train.Cabin.value_counts()"
      ],
      "execution_count": 0,
      "outputs": [
        {
          "output_type": "execute_result",
          "data": {
            "text/plain": [
              "C23 C25 C27    4\n",
              "B96 B98        4\n",
              "G6             4\n",
              "C22 C26        3\n",
              "D              3\n",
              "              ..\n",
              "A20            1\n",
              "F G63          1\n",
              "C49            1\n",
              "C86            1\n",
              "B41            1\n",
              "Name: Cabin, Length: 147, dtype: int64"
            ]
          },
          "metadata": {
            "tags": []
          },
          "execution_count": 389
        }
      ]
    },
    {
      "cell_type": "markdown",
      "metadata": {
        "id": "aOfYBodLBekO",
        "colab_type": "text"
      },
      "source": [
        "#Insights:\n",
        "As we see the first character in Cabin is informative so we are going to extract them only."
      ]
    },
    {
      "cell_type": "code",
      "metadata": {
        "id": "caIDPi4AAywo",
        "colab_type": "code",
        "colab": {}
      },
      "source": [
        "for data in train_test_data:\n",
        "  data['Cabin']=data['Cabin'].str[:1]"
      ],
      "execution_count": 0,
      "outputs": []
    },
    {
      "cell_type": "code",
      "metadata": {
        "id": "eJuZS6bSCbOX",
        "colab_type": "code",
        "outputId": "7abe6e0f-1175-43f3-c35d-6d1f66d0c130",
        "colab": {
          "base_uri": "https://localhost:8080/",
          "height": 381
        }
      },
      "source": [
        "Pclass1=train[train['Pclass']==1]['Cabin'].value_counts()\n",
        "Pclass2=train[train['Pclass']==2]['Cabin'].value_counts()\n",
        "Pclass3=train[train['Pclass']==3]['Cabin'].value_counts()\n",
        "df=pd.DataFrame([Pclass1,Pclass2,Pclass3])\n",
        "df.index=['1st class','2nd class','3rd class']\n",
        "df.plot(kind='bar',stacked=True,figsize=(10,5))"
      ],
      "execution_count": 0,
      "outputs": [
        {
          "output_type": "execute_result",
          "data": {
            "text/plain": [
              "<matplotlib.axes._subplots.AxesSubplot at 0x7f7daa0d8c18>"
            ]
          },
          "metadata": {
            "tags": []
          },
          "execution_count": 391
        },
        {
          "output_type": "display_data",
          "data": {
            "image/png": "[encoded data removed]",
            "text/plain": [
              "<Figure size 720x360 with 1 Axes>"
            ]
          },
          "metadata": {
            "tags": []
          }
        }
      ]
    },
    {
      "cell_type": "markdown",
      "metadata": {
        "id": "Tk6bTMYuHcUt",
        "colab_type": "text"
      },
      "source": [
        "#Binning for Cabin:\n"
      ]
    },
    {
      "cell_type": "code",
      "metadata": {
        "id": "cZ0SNgERCfAy",
        "colab_type": "code",
        "colab": {}
      },
      "source": [
        "Cabin_mapping={'A':0,'B':.2,'C':.4,'D':.6,'E':.8,'F':1.0,'G':1.2,'T':1.4}\n",
        "for data in train_test_data:\n",
        "  data['Cabin']=data['Cabin'].map(Cabin_mapping)"
      ],
      "execution_count": 0,
      "outputs": []
    },
    {
      "cell_type": "markdown",
      "metadata": {
        "id": "Fm4iu9QWInQB",
        "colab_type": "text"
      },
      "source": [
        "#Filling Missing values of cabin"
      ]
    },
    {
      "cell_type": "code",
      "metadata": {
        "id": "vrnvr5pOIeS0",
        "colab_type": "code",
        "colab": {}
      },
      "source": [
        "train[\"Cabin\"].fillna(train.groupby('Pclass')['Cabin'].transform('median'),inplace=True)\n",
        "test[\"Cabin\"].fillna(test.groupby('Pclass')['Cabin'].transform('median'),inplace=True)"
      ],
      "execution_count": 0,
      "outputs": []
    },
    {
      "cell_type": "markdown",
      "metadata": {
        "id": "A9V7JB48Je_Z",
        "colab_type": "text"
      },
      "source": [
        "#Creating a new feature called Family Size:"
      ]
    },
    {
      "cell_type": "code",
      "metadata": {
        "id": "oQQ0D2Q7JK11",
        "colab_type": "code",
        "colab": {}
      },
      "source": [
        "train['Family_size']=train['SibSp']+train['Parch']+1\n",
        "test['Family_size']=test['SibSp']+test['Parch']+1"
      ],
      "execution_count": 0,
      "outputs": []
    },
    {
      "cell_type": "code",
      "metadata": {
        "id": "R-eYIsNxJ3_g",
        "colab_type": "code",
        "outputId": "d1d009b9-67ee-4f92-a3e7-34865999577f",
        "colab": {
          "base_uri": "https://localhost:8080/",
          "height": 221
        }
      },
      "source": [
        "facet=sns.FacetGrid(train,hue='Survived',aspect=4)\n",
        "facet.map(sns.kdeplot,'Family_size',shade=True)\n",
        "facet.set(xlim=(0,train['Family_size'].max()))\n",
        "facet.add_legend()\n",
        "#plt.xlim(100,300)\n",
        "plt.show()"
      ],
      "execution_count": 0,
      "outputs": [
        {
          "output_type": "display_data",
          "data": {
            "image/png": "[encoded data removed]",
            "text/plain": [
              "<Figure size 918.05x216 with 1 Axes>"
            ]
          },
          "metadata": {
            "tags": []
          }
        }
      ]
    },
    {
      "cell_type": "markdown",
      "metadata": {
        "id": "l8qW6IAhL1K_",
        "colab_type": "text"
      },
      "source": [
        "#Normalizing Family size"
      ]
    },
    {
      "cell_type": "code",
      "metadata": {
        "id": "riBVQ8beKJot",
        "colab_type": "code",
        "colab": {}
      },
      "source": [
        "train['Family_size']=(train['Family_size']-train['Family_size'].min())/(train['Family_size'].max()-train['Family_size'].min())\n",
        "test['Family_size']=(test['Family_size']-test['Family_size'].min())/(test['Family_size'].max()-test['Family_size'].min())"
      ],
      "execution_count": 0,
      "outputs": []
    },
    {
      "cell_type": "markdown",
      "metadata": {
        "id": "Y-3b8NwGOKDr",
        "colab_type": "text"
      },
      "source": [
        "#Dropping feature Ticket as its useless and also Dropping features SibSp and Parch as their information is already covered in Family_size"
      ]
    },
    {
      "cell_type": "code",
      "metadata": {
        "id": "1Rd3uGhrMTEW",
        "colab_type": "code",
        "colab": {}
      },
      "source": [
        "features_drop=['Ticket','SibSp','Parch']\n",
        "train=train.drop(features_drop,axis=1)\n",
        "test=test.drop(features_drop,axis=1)"
      ],
      "execution_count": 0,
      "outputs": []
    },
    {
      "cell_type": "code",
      "metadata": {
        "id": "REa-nff8Nrxt",
        "colab_type": "code",
        "colab": {}
      },
      "source": [
        "train=train.drop('PassengerId',axis=1)"
      ],
      "execution_count": 0,
      "outputs": []
    },
    {
      "cell_type": "markdown",
      "metadata": {
        "id": "5LJ8hNLbP7Lz",
        "colab_type": "text"
      },
      "source": [
        "#Creating the Feature Matrix and Label Matrix:"
      ]
    },
    {
      "cell_type": "code",
      "metadata": {
        "id": "LJXVNvxeP4g5",
        "colab_type": "code",
        "colab": {}
      },
      "source": [
        "train_data=train.drop('Survived',axis=1)"
      ],
      "execution_count": 0,
      "outputs": []
    },
    {
      "cell_type": "code",
      "metadata": {
        "id": "jKxtMcVvQHnT",
        "colab_type": "code",
        "colab": {}
      },
      "source": [
        "target=train['Survived']"
      ],
      "execution_count": 0,
      "outputs": []
    },
    {
      "cell_type": "code",
      "metadata": {
        "id": "-76Jt9JuQPp7",
        "colab_type": "code",
        "outputId": "ff4f51ff-5527-4caf-ae8f-49bfb3ce5f4a",
        "colab": {
          "base_uri": "https://localhost:8080/",
          "height": 34
        }
      },
      "source": [
        "train_data.shape,target.shape"
      ],
      "execution_count": 0,
      "outputs": [
        {
          "output_type": "execute_result",
          "data": {
            "text/plain": [
              "((891, 8), (891,))"
            ]
          },
          "metadata": {
            "tags": []
          },
          "execution_count": 401
        }
      ]
    },
    {
      "cell_type": "code",
      "metadata": {
        "id": "5jbZvTpOQTEe",
        "colab_type": "code",
        "outputId": "bd277409-63c7-4fff-dbe5-b62f6e7d1c51",
        "colab": {
          "base_uri": "https://localhost:8080/",
          "height": 419
        }
      },
      "source": [
        "train_data"
      ],
      "execution_count": 0,
      "outputs": [
        {
          "output_type": "execute_result",
          "data": {
            "text/html": [
              "<div>\n",
              "<style scoped>\n",
              "    .dataframe tbody tr th:only-of-type {\n",
              "        vertical-align: middle;\n",
              "    }\n",
              "\n",
              "    .dataframe tbody tr th {\n",
              "        vertical-align: top;\n",
              "    }\n",
              "\n",
              "    .dataframe thead th {\n",
              "        text-align: right;\n",
              "    }\n",
              "</style>\n",
              "<table border=\"1\" class=\"dataframe\">\n",
              "  <thead>\n",
              "    <tr style=\"text-align: right;\">\n",
              "      <th></th>\n",
              "      <th>Pclass</th>\n",
              "      <th>Sex</th>\n",
              "      <th>Age</th>\n",
              "      <th>Fare</th>\n",
              "      <th>Cabin</th>\n",
              "      <th>Embarked</th>\n",
              "      <th>Title</th>\n",
              "      <th>Family_size</th>\n",
              "    </tr>\n",
              "  </thead>\n",
              "  <tbody>\n",
              "    <tr>\n",
              "      <th>0</th>\n",
              "      <td>3</td>\n",
              "      <td>0</td>\n",
              "      <td>1.0</td>\n",
              "      <td>0.0</td>\n",
              "      <td>1.0</td>\n",
              "      <td>0</td>\n",
              "      <td>0</td>\n",
              "      <td>0.1</td>\n",
              "    </tr>\n",
              "    <tr>\n",
              "      <th>1</th>\n",
              "      <td>1</td>\n",
              "      <td>10</td>\n",
              "      <td>2.0</td>\n",
              "      <td>2.0</td>\n",
              "      <td>0.4</td>\n",
              "      <td>1</td>\n",
              "      <td>2</td>\n",
              "      <td>0.1</td>\n",
              "    </tr>\n",
              "    <tr>\n",
              "      <th>2</th>\n",
              "      <td>3</td>\n",
              "      <td>10</td>\n",
              "      <td>1.0</td>\n",
              "      <td>0.0</td>\n",
              "      <td>1.0</td>\n",
              "      <td>0</td>\n",
              "      <td>1</td>\n",
              "      <td>0.0</td>\n",
              "    </tr>\n",
              "    <tr>\n",
              "      <th>3</th>\n",
              "      <td>1</td>\n",
              "      <td>10</td>\n",
              "      <td>2.0</td>\n",
              "      <td>2.0</td>\n",
              "      <td>0.4</td>\n",
              "      <td>0</td>\n",
              "      <td>2</td>\n",
              "      <td>0.1</td>\n",
              "    </tr>\n",
              "    <tr>\n",
              "      <th>4</th>\n",
              "      <td>3</td>\n",
              "      <td>0</td>\n",
              "      <td>2.0</td>\n",
              "      <td>0.0</td>\n",
              "      <td>1.0</td>\n",
              "      <td>0</td>\n",
              "      <td>0</td>\n",
              "      <td>0.0</td>\n",
              "    </tr>\n",
              "    <tr>\n",
              "      <th>...</th>\n",
              "      <td>...</td>\n",
              "      <td>...</td>\n",
              "      <td>...</td>\n",
              "      <td>...</td>\n",
              "      <td>...</td>\n",
              "      <td>...</td>\n",
              "      <td>...</td>\n",
              "      <td>...</td>\n",
              "    </tr>\n",
              "    <tr>\n",
              "      <th>886</th>\n",
              "      <td>2</td>\n",
              "      <td>0</td>\n",
              "      <td>1.0</td>\n",
              "      <td>0.0</td>\n",
              "      <td>0.9</td>\n",
              "      <td>0</td>\n",
              "      <td>3</td>\n",
              "      <td>0.0</td>\n",
              "    </tr>\n",
              "    <tr>\n",
              "      <th>887</th>\n",
              "      <td>1</td>\n",
              "      <td>10</td>\n",
              "      <td>1.0</td>\n",
              "      <td>2.0</td>\n",
              "      <td>0.2</td>\n",
              "      <td>0</td>\n",
              "      <td>1</td>\n",
              "      <td>0.0</td>\n",
              "    </tr>\n",
              "    <tr>\n",
              "      <th>888</th>\n",
              "      <td>3</td>\n",
              "      <td>10</td>\n",
              "      <td>1.0</td>\n",
              "      <td>1.0</td>\n",
              "      <td>1.0</td>\n",
              "      <td>0</td>\n",
              "      <td>1</td>\n",
              "      <td>0.3</td>\n",
              "    </tr>\n",
              "    <tr>\n",
              "      <th>889</th>\n",
              "      <td>1</td>\n",
              "      <td>0</td>\n",
              "      <td>1.0</td>\n",
              "      <td>2.0</td>\n",
              "      <td>0.4</td>\n",
              "      <td>1</td>\n",
              "      <td>0</td>\n",
              "      <td>0.0</td>\n",
              "    </tr>\n",
              "    <tr>\n",
              "      <th>890</th>\n",
              "      <td>3</td>\n",
              "      <td>0</td>\n",
              "      <td>1.0</td>\n",
              "      <td>0.0</td>\n",
              "      <td>1.0</td>\n",
              "      <td>2</td>\n",
              "      <td>0</td>\n",
              "      <td>0.0</td>\n",
              "    </tr>\n",
              "  </tbody>\n",
              "</table>\n",
              "<p>891 rows × 8 columns</p>\n",
              "</div>"
            ],
            "text/plain": [
              "     Pclass  Sex  Age  Fare  Cabin  Embarked  Title  Family_size\n",
              "0         3    0  1.0   0.0    1.0         0      0          0.1\n",
              "1         1   10  2.0   2.0    0.4         1      2          0.1\n",
              "2         3   10  1.0   0.0    1.0         0      1          0.0\n",
              "3         1   10  2.0   2.0    0.4         0      2          0.1\n",
              "4         3    0  2.0   0.0    1.0         0      0          0.0\n",
              "..      ...  ...  ...   ...    ...       ...    ...          ...\n",
              "886       2    0  1.0   0.0    0.9         0      3          0.0\n",
              "887       1   10  1.0   2.0    0.2         0      1          0.0\n",
              "888       3   10  1.0   1.0    1.0         0      1          0.3\n",
              "889       1    0  1.0   2.0    0.4         1      0          0.0\n",
              "890       3    0  1.0   0.0    1.0         2      0          0.0\n",
              "\n",
              "[891 rows x 8 columns]"
            ]
          },
          "metadata": {
            "tags": []
          },
          "execution_count": 402
        }
      ]
    },
    {
      "cell_type": "markdown",
      "metadata": {
        "id": "WwQLtgFaS8ME",
        "colab_type": "text"
      },
      "source": [
        "#MODELING and Training:"
      ]
    },
    {
      "cell_type": "code",
      "metadata": {
        "id": "Fy2IdmWCShW2",
        "colab_type": "code",
        "colab": {}
      },
      "source": [
        "from sklearn.neighbors import KNeighborsClassifier\n",
        "from sklearn.svm import SVC\n",
        "from sklearn.tree import DecisionTreeClassifier\n",
        "from sklearn.ensemble import RandomForestClassifier\n",
        "from sklearn.naive_bayes import GaussianNB\n",
        "from sklearn.ensemble import VotingClassifier\n"
      ],
      "execution_count": 0,
      "outputs": []
    },
    {
      "cell_type": "markdown",
      "metadata": {
        "id": "9FWFKlmuVJiW",
        "colab_type": "text"
      },
      "source": [
        "#Setting up the K-Fold CROSS VALIDATION"
      ]
    },
    {
      "cell_type": "code",
      "metadata": {
        "id": "GfJvEGw4VCfp",
        "colab_type": "code",
        "colab": {}
      },
      "source": [
        "from sklearn.model_selection import KFold\n",
        "from sklearn.model_selection import cross_val_score\n",
        "k_fold=KFold(n_splits=10,shuffle=True,random_state=0)"
      ],
      "execution_count": 0,
      "outputs": []
    },
    {
      "cell_type": "markdown",
      "metadata": {
        "id": "hj2dd2BEW_Rs",
        "colab_type": "text"
      },
      "source": [
        "#K-NN:"
      ]
    },
    {
      "cell_type": "code",
      "metadata": {
        "id": "c302Msk2W-Ef",
        "colab_type": "code",
        "outputId": "7a71f9cd-b771-4594-d760-3e5ba2292093",
        "colab": {
          "base_uri": "https://localhost:8080/",
          "height": 51
        }
      },
      "source": [
        "clf=KNeighborsClassifier(n_neighbors=11)\n",
        "scoring='accuracy'\n",
        "score=cross_val_score(clf,train_data,target,scoring=scoring,cv=k_fold)\n",
        "print(score)"
      ],
      "execution_count": 0,
      "outputs": [
        {
          "output_type": "stream",
          "text": [
            "[0.81111111 0.85393258 0.84269663 0.84269663 0.84269663 0.83146067\n",
            " 0.80898876 0.79775281 0.79775281 0.84269663]\n"
          ],
          "name": "stdout"
        }
      ]
    },
    {
      "cell_type": "markdown",
      "metadata": {
        "id": "KGo4FBVIYxh8",
        "colab_type": "text"
      },
      "source": [
        "#Knn score"
      ]
    },
    {
      "cell_type": "code",
      "metadata": {
        "id": "6ga5_u6gYazi",
        "colab_type": "code",
        "outputId": "73680b29-a242-4908-ebd8-07d800622cf0",
        "colab": {
          "base_uri": "https://localhost:8080/",
          "height": 34
        }
      },
      "source": [
        "round(np.mean(score)*100,2)"
      ],
      "execution_count": 0,
      "outputs": [
        {
          "output_type": "execute_result",
          "data": {
            "text/plain": [
              "82.72"
            ]
          },
          "metadata": {
            "tags": []
          },
          "execution_count": 406
        }
      ]
    },
    {
      "cell_type": "markdown",
      "metadata": {
        "id": "5mMidHQwY5bl",
        "colab_type": "text"
      },
      "source": [
        "#DECISION TREE:"
      ]
    },
    {
      "cell_type": "code",
      "metadata": {
        "id": "tLfa0RQ4Yr4z",
        "colab_type": "code",
        "outputId": "e0b86963-6dc4-4170-e753-c6b3d04151bb",
        "colab": {
          "base_uri": "https://localhost:8080/",
          "height": 51
        }
      },
      "source": [
        "clf=DecisionTreeClassifier()\n",
        "scoring='accuracy'\n",
        "score=cross_val_score(clf,train_data,target,scoring=scoring,cv=k_fold)\n",
        "print(score)"
      ],
      "execution_count": 0,
      "outputs": [
        {
          "output_type": "stream",
          "text": [
            "[0.8        0.82022472 0.75280899 0.79775281 0.84269663 0.80898876\n",
            " 0.82022472 0.78651685 0.74157303 0.82022472]\n"
          ],
          "name": "stdout"
        }
      ]
    },
    {
      "cell_type": "markdown",
      "metadata": {
        "id": "ItKZQo8OZskB",
        "colab_type": "text"
      },
      "source": [
        "#Decision tree score"
      ]
    },
    {
      "cell_type": "code",
      "metadata": {
        "id": "0akTCuhkZmrf",
        "colab_type": "code",
        "outputId": "da0f64ca-9e75-41d3-e705-020e82d45a9e",
        "colab": {
          "base_uri": "https://localhost:8080/",
          "height": 34
        }
      },
      "source": [
        "round(np.mean(score)*100,2)"
      ],
      "execution_count": 0,
      "outputs": [
        {
          "output_type": "execute_result",
          "data": {
            "text/plain": [
              "79.91"
            ]
          },
          "metadata": {
            "tags": []
          },
          "execution_count": 408
        }
      ]
    },
    {
      "cell_type": "markdown",
      "metadata": {
        "id": "XpGthp5cZ3iC",
        "colab_type": "text"
      },
      "source": [
        "#RANDOM FOREST:"
      ]
    },
    {
      "cell_type": "code",
      "metadata": {
        "id": "osfsi7WPZgUL",
        "colab_type": "code",
        "outputId": "9f8324b6-7ccc-4e98-9ffe-89102dbf0199",
        "colab": {
          "base_uri": "https://localhost:8080/",
          "height": 51
        }
      },
      "source": [
        "clf=RandomForestClassifier(n_estimators=15)\n",
        "scoring='accuracy'\n",
        "score=cross_val_score(clf,train_data,target,scoring=scoring,cv=k_fold)\n",
        "print(score)"
      ],
      "execution_count": 0,
      "outputs": [
        {
          "output_type": "stream",
          "text": [
            "[0.82222222 0.84269663 0.76404494 0.82022472 0.8988764  0.82022472\n",
            " 0.80898876 0.78651685 0.75280899 0.84269663]\n"
          ],
          "name": "stdout"
        }
      ]
    },
    {
      "cell_type": "markdown",
      "metadata": {
        "id": "n07sxTaNaK0T",
        "colab_type": "text"
      },
      "source": [
        "#Random forest score"
      ]
    },
    {
      "cell_type": "code",
      "metadata": {
        "id": "Jok-u3wnaLk6",
        "colab_type": "code",
        "outputId": "b178d42e-1bcd-4454-d625-b49a0bafe026",
        "colab": {
          "base_uri": "https://localhost:8080/",
          "height": 34
        }
      },
      "source": [
        "round(np.mean(score)*100,2)"
      ],
      "execution_count": 0,
      "outputs": [
        {
          "output_type": "execute_result",
          "data": {
            "text/plain": [
              "81.59"
            ]
          },
          "metadata": {
            "tags": []
          },
          "execution_count": 410
        }
      ]
    },
    {
      "cell_type": "markdown",
      "metadata": {
        "id": "Sikax0v2alTc",
        "colab_type": "text"
      },
      "source": [
        "#NAIVE BAYES:"
      ]
    },
    {
      "cell_type": "code",
      "metadata": {
        "id": "AYrN0Li2Zj5-",
        "colab_type": "code",
        "outputId": "acdff4b7-8dec-428b-9122-60ceba16fc65",
        "colab": {
          "base_uri": "https://localhost:8080/",
          "height": 51
        }
      },
      "source": [
        "clf=GaussianNB()\n",
        "scoring='accuracy'\n",
        "score=cross_val_score(clf,train_data,target,scoring=scoring,cv=k_fold)\n",
        "print(score)"
      ],
      "execution_count": 0,
      "outputs": [
        {
          "output_type": "stream",
          "text": [
            "[0.86666667 0.73033708 0.74157303 0.74157303 0.69662921 0.80898876\n",
            " 0.76404494 0.79775281 0.86516854 0.82022472]\n"
          ],
          "name": "stdout"
        }
      ]
    },
    {
      "cell_type": "markdown",
      "metadata": {
        "id": "gGH7AyHoauDt",
        "colab_type": "text"
      },
      "source": [
        "#Naive bayes score"
      ]
    },
    {
      "cell_type": "code",
      "metadata": {
        "id": "mNDHA_16ayEy",
        "colab_type": "code",
        "outputId": "12014f25-7001-4a80-a278-cc2131047ba1",
        "colab": {
          "base_uri": "https://localhost:8080/",
          "height": 34
        }
      },
      "source": [
        "round(np.mean(score)*100,2)"
      ],
      "execution_count": 0,
      "outputs": [
        {
          "output_type": "execute_result",
          "data": {
            "text/plain": [
              "78.33"
            ]
          },
          "metadata": {
            "tags": []
          },
          "execution_count": 412
        }
      ]
    },
    {
      "cell_type": "markdown",
      "metadata": {
        "id": "hUp41Gkoa1MF",
        "colab_type": "text"
      },
      "source": [
        "#SVM:"
      ]
    },
    {
      "cell_type": "code",
      "metadata": {
        "id": "WTnhh35vZksw",
        "colab_type": "code",
        "outputId": "89b6388a-3bf1-46c4-c4af-0416b2ba508a",
        "colab": {
          "base_uri": "https://localhost:8080/",
          "height": 51
        }
      },
      "source": [
        "clf=SVC()\n",
        "scoring='accuracy'\n",
        "score=cross_val_score(clf,train_data,target,scoring=scoring,cv=k_fold)\n",
        "print(score)"
      ],
      "execution_count": 0,
      "outputs": [
        {
          "output_type": "stream",
          "text": [
            "[0.81111111 0.78651685 0.79775281 0.76404494 0.79775281 0.78651685\n",
            " 0.78651685 0.82022472 0.82022472 0.82022472]\n"
          ],
          "name": "stdout"
        }
      ]
    },
    {
      "cell_type": "markdown",
      "metadata": {
        "id": "0UZI7700bfAe",
        "colab_type": "text"
      },
      "source": [
        "#Svm score"
      ]
    },
    {
      "cell_type": "code",
      "metadata": {
        "id": "C-bA9Nnlbcyk",
        "colab_type": "code",
        "outputId": "77733c0c-c370-46e3-d6dd-bcded05ce7ad",
        "colab": {
          "base_uri": "https://localhost:8080/",
          "height": 34
        }
      },
      "source": [
        "round(np.mean(score)*100,2)"
      ],
      "execution_count": 0,
      "outputs": [
        {
          "output_type": "execute_result",
          "data": {
            "text/plain": [
              "79.91"
            ]
          },
          "metadata": {
            "tags": []
          },
          "execution_count": 414
        }
      ]
    },
    {
      "cell_type": "markdown",
      "metadata": {
        "id": "rc-3aCoZdRvC",
        "colab_type": "text"
      },
      "source": [
        "#Final classifier and test:"
      ]
    },
    {
      "cell_type": "code",
      "metadata": {
        "id": "2WCLRIisbiti",
        "colab_type": "code",
        "colab": {}
      },
      "source": [
        "clf1=KNeighborsClassifier(n_neighbors=11)\n",
        "clf2=DecisionTreeClassifier()\n",
        "clf3=RandomForestClassifier(n_estimators=15)\n",
        "clf4=GaussianNB()\n",
        "clf5=SVC()\n",
        "clf=VotingClassifier(estimators=[('knn',clf1),('dt',clf2),('rf',clf3),('gnb',clf4),('svm',clf5)])\n",
        "clf.fit(train_data,target)\n",
        "clf1.fit(train_data,target)\n",
        "clf2.fit(train_data,target)\n",
        "clf3.fit(train_data,target)\n",
        "clf4.fit(train_data,target)\n",
        "clf5.fit(train_data,target)\n",
        "test_data=test.drop('PassengerId',axis=1).copy()\n",
        "prediction=clf.predict(test_data)\n",
        "prediction1=clf1.predict(test_data)\n",
        "prediction2=clf2.predict(test_data)\n",
        "prediction3=clf3.predict(test_data)\n",
        "prediction4=clf4.predict(test_data)\n",
        "prediction5=clf5.predict(test_data)"
      ],
      "execution_count": 0,
      "outputs": []
    },
    {
      "cell_type": "markdown",
      "metadata": {
        "id": "dhf5Ldn2dx-W",
        "colab_type": "text"
      },
      "source": [
        "#Submission file creation:\n"
      ]
    },
    {
      "cell_type": "code",
      "metadata": {
        "id": "PIRstWx_dwxx",
        "colab_type": "code",
        "colab": {}
      },
      "source": [
        "submission=pd.DataFrame({'PassengerId':test['PassengerId'],\n",
        "                         'Survived':prediction})\n",
        "submission.to_csv('submission.csv',index=False)\n"
      ],
      "execution_count": 0,
      "outputs": []
    },
    {
      "cell_type": "code",
      "metadata": {
        "id": "Otz64jG2rNMN",
        "colab_type": "code",
        "colab": {}
      },
      "source": [
        "submission1=pd.DataFrame({'PassengerId':test['PassengerId'],\n",
        "                         'Survived':prediction})\n",
        "submission1.to_csv('submissionknn.csv',index=False)"
      ],
      "execution_count": 0,
      "outputs": []
    },
    {
      "cell_type": "code",
      "metadata": {
        "id": "6eWHyS0msUO3",
        "colab_type": "code",
        "colab": {}
      },
      "source": [
        "submission2=pd.DataFrame({'PassengerId':test['PassengerId'],\n",
        "                         'Survived':prediction})\n",
        "submission2.to_csv('submissiondt.csv',index=False)"
      ],
      "execution_count": 0,
      "outputs": []
    },
    {
      "cell_type": "code",
      "metadata": {
        "id": "je9FCwvqsUgV",
        "colab_type": "code",
        "colab": {}
      },
      "source": [
        "submission3=pd.DataFrame({'PassengerId':test['PassengerId'],\n",
        "                         'Survived':prediction})\n",
        "submission3.to_csv('submissionrf.csv',index=False)"
      ],
      "execution_count": 0,
      "outputs": []
    },
    {
      "cell_type": "code",
      "metadata": {
        "id": "_aI7esvAsUyr",
        "colab_type": "code",
        "colab": {}
      },
      "source": [
        "submission4=pd.DataFrame({'PassengerId':test['PassengerId'],\n",
        "                         'Survived':prediction})\n",
        "submission4.to_csv('submissiongnb.csv',index=False)"
      ],
      "execution_count": 0,
      "outputs": []
    },
    {
      "cell_type": "code",
      "metadata": {
        "id": "y5LBxvOTsVKE",
        "colab_type": "code",
        "colab": {}
      },
      "source": [
        "submission5=pd.DataFrame({'PassengerId':test['PassengerId'],\n",
        "                         'Survived':prediction})\n",
        "submission5.to_csv('submissionsvm.csv',index=False)"
      ],
      "execution_count": 0,
      "outputs": []
    },
    {
      "cell_type": "code",
      "metadata": {
        "id": "KdH5hGW8eeJ2",
        "colab_type": "code",
        "outputId": "95a953b3-4242-498a-9bce-d9f034da4de9",
        "colab": {
          "base_uri": "https://localhost:8080/",
          "height": 204
        }
      },
      "source": [
        "sub=pd.read_csv('submission.csv')\n",
        "sub.head(5)"
      ],
      "execution_count": 0,
      "outputs": [
        {
          "output_type": "execute_result",
          "data": {
            "text/html": [
              "<div>\n",
              "<style scoped>\n",
              "    .dataframe tbody tr th:only-of-type {\n",
              "        vertical-align: middle;\n",
              "    }\n",
              "\n",
              "    .dataframe tbody tr th {\n",
              "        vertical-align: top;\n",
              "    }\n",
              "\n",
              "    .dataframe thead th {\n",
              "        text-align: right;\n",
              "    }\n",
              "</style>\n",
              "<table border=\"1\" class=\"dataframe\">\n",
              "  <thead>\n",
              "    <tr style=\"text-align: right;\">\n",
              "      <th></th>\n",
              "      <th>PassengerId</th>\n",
              "      <th>Survived</th>\n",
              "    </tr>\n",
              "  </thead>\n",
              "  <tbody>\n",
              "    <tr>\n",
              "      <th>0</th>\n",
              "      <td>892</td>\n",
              "      <td>0</td>\n",
              "    </tr>\n",
              "    <tr>\n",
              "      <th>1</th>\n",
              "      <td>893</td>\n",
              "      <td>0</td>\n",
              "    </tr>\n",
              "    <tr>\n",
              "      <th>2</th>\n",
              "      <td>894</td>\n",
              "      <td>0</td>\n",
              "    </tr>\n",
              "    <tr>\n",
              "      <th>3</th>\n",
              "      <td>895</td>\n",
              "      <td>0</td>\n",
              "    </tr>\n",
              "    <tr>\n",
              "      <th>4</th>\n",
              "      <td>896</td>\n",
              "      <td>1</td>\n",
              "    </tr>\n",
              "  </tbody>\n",
              "</table>\n",
              "</div>"
            ],
            "text/plain": [
              "   PassengerId  Survived\n",
              "0          892         0\n",
              "1          893         0\n",
              "2          894         0\n",
              "3          895         0\n",
              "4          896         1"
            ]
          },
          "metadata": {
            "tags": []
          },
          "execution_count": 422
        }
      ]
    },
    {
      "cell_type": "code",
      "metadata": {
        "id": "JN8LgZJfemOI",
        "colab_type": "code",
        "outputId": "f883add5-f850-4577-e4f2-049a18af979a",
        "colab": {
          "base_uri": "https://localhost:8080/",
          "height": 204
        }
      },
      "source": [
        "sub=pd.read_csv('submissionsvm.csv')\n",
        "sub.head(5)"
      ],
      "execution_count": 0,
      "outputs": [
        {
          "output_type": "execute_result",
          "data": {
            "text/html": [
              "<div>\n",
              "<style scoped>\n",
              "    .dataframe tbody tr th:only-of-type {\n",
              "        vertical-align: middle;\n",
              "    }\n",
              "\n",
              "    .dataframe tbody tr th {\n",
              "        vertical-align: top;\n",
              "    }\n",
              "\n",
              "    .dataframe thead th {\n",
              "        text-align: right;\n",
              "    }\n",
              "</style>\n",
              "<table border=\"1\" class=\"dataframe\">\n",
              "  <thead>\n",
              "    <tr style=\"text-align: right;\">\n",
              "      <th></th>\n",
              "      <th>PassengerId</th>\n",
              "      <th>Survived</th>\n",
              "    </tr>\n",
              "  </thead>\n",
              "  <tbody>\n",
              "    <tr>\n",
              "      <th>0</th>\n",
              "      <td>892</td>\n",
              "      <td>0</td>\n",
              "    </tr>\n",
              "    <tr>\n",
              "      <th>1</th>\n",
              "      <td>893</td>\n",
              "      <td>0</td>\n",
              "    </tr>\n",
              "    <tr>\n",
              "      <th>2</th>\n",
              "      <td>894</td>\n",
              "      <td>0</td>\n",
              "    </tr>\n",
              "    <tr>\n",
              "      <th>3</th>\n",
              "      <td>895</td>\n",
              "      <td>0</td>\n",
              "    </tr>\n",
              "    <tr>\n",
              "      <th>4</th>\n",
              "      <td>896</td>\n",
              "      <td>1</td>\n",
              "    </tr>\n",
              "  </tbody>\n",
              "</table>\n",
              "</div>"
            ],
            "text/plain": [
              "   PassengerId  Survived\n",
              "0          892         0\n",
              "1          893         0\n",
              "2          894         0\n",
              "3          895         0\n",
              "4          896         1"
            ]
          },
          "metadata": {
            "tags": []
          },
          "execution_count": 423
        }
      ]
    },
    {
      "cell_type": "code",
      "metadata": {
        "id": "nnPAy-QLw_Iu",
        "colab_type": "code",
        "colab": {}
      },
      "source": [
        "sub=pd.DataFrame({'PassengerId':test['PassengerId'],'Survived':0})\n",
        "idx=np.arange(0,418)\n",
        "for i in idx:\n",
        "  if test.iloc[i]['Sex']==10:\n",
        "    sub.iloc[i]['Survived']=1"
      ],
      "execution_count": 0,
      "outputs": []
    },
    {
      "cell_type": "code",
      "metadata": {
        "id": "2P-EvRLfxR_I",
        "colab_type": "code",
        "outputId": "b2d5312c-d025-44f9-d4bc-2423ebb60216",
        "colab": {
          "base_uri": "https://localhost:8080/",
          "height": 204
        }
      },
      "source": [
        "sub.head(5)"
      ],
      "execution_count": 0,
      "outputs": [
        {
          "output_type": "execute_result",
          "data": {
            "text/html": [
              "<div>\n",
              "<style scoped>\n",
              "    .dataframe tbody tr th:only-of-type {\n",
              "        vertical-align: middle;\n",
              "    }\n",
              "\n",
              "    .dataframe tbody tr th {\n",
              "        vertical-align: top;\n",
              "    }\n",
              "\n",
              "    .dataframe thead th {\n",
              "        text-align: right;\n",
              "    }\n",
              "</style>\n",
              "<table border=\"1\" class=\"dataframe\">\n",
              "  <thead>\n",
              "    <tr style=\"text-align: right;\">\n",
              "      <th></th>\n",
              "      <th>PassengerId</th>\n",
              "      <th>Survived</th>\n",
              "    </tr>\n",
              "  </thead>\n",
              "  <tbody>\n",
              "    <tr>\n",
              "      <th>0</th>\n",
              "      <td>892</td>\n",
              "      <td>0</td>\n",
              "    </tr>\n",
              "    <tr>\n",
              "      <th>1</th>\n",
              "      <td>893</td>\n",
              "      <td>1</td>\n",
              "    </tr>\n",
              "    <tr>\n",
              "      <th>2</th>\n",
              "      <td>894</td>\n",
              "      <td>0</td>\n",
              "    </tr>\n",
              "    <tr>\n",
              "      <th>3</th>\n",
              "      <td>895</td>\n",
              "      <td>0</td>\n",
              "    </tr>\n",
              "    <tr>\n",
              "      <th>4</th>\n",
              "      <td>896</td>\n",
              "      <td>1</td>\n",
              "    </tr>\n",
              "  </tbody>\n",
              "</table>\n",
              "</div>"
            ],
            "text/plain": [
              "   PassengerId  Survived\n",
              "0          892         0\n",
              "1          893         1\n",
              "2          894         0\n",
              "3          895         0\n",
              "4          896         1"
            ]
          },
          "metadata": {
            "tags": []
          },
          "execution_count": 444
        }
      ]
    },
    {
      "cell_type": "code",
      "metadata": {
        "id": "qmoF425-x4ZB",
        "colab_type": "code",
        "colab": {}
      },
      "source": [
        "sub.to_csv(\"sub.csv\",index=False)"
      ],
      "execution_count": 0,
      "outputs": []
    },
    {
      "cell_type": "code",
      "metadata": {
        "id": "lNd15vxp3dK6",
        "colab_type": "code",
        "colab": {}
      },
      "source": [
        ""
      ],
      "execution_count": 0,
      "outputs": []
    }
  ]
}